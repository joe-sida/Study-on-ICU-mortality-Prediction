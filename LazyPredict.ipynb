{
 "cells": [
  {
   "cell_type": "code",
   "execution_count": 20,
   "metadata": {},
   "outputs": [],
   "source": [
    "import pandas as pd\n",
    "import numpy as np\n",
    "import lazypredict\n",
    "from lazypredict.Supervised import LazyClassifier\n",
    "from sklearn.datasets import load_breast_cancer\n",
    "from sklearn.model_selection import train_test_split\n",
    "\n",
    "#regression\n",
    "from lazypredict.Supervised import LazyRegressor\n",
    "from sklearn import datasets\n",
    "from sklearn.utils import shuffle\n",
    "import numpy as np\n"
   ]
  },
  {
   "cell_type": "code",
   "execution_count": 26,
   "metadata": {},
   "outputs": [],
   "source": [
    "df = pd.read_csv(r'C:\\Users\\USER\\Downloads\\Researchs on Mortality Prediction in ICU\\Mortality Prediction in ICU\\train.csv', encoding = 'utf-8')\n",
    "labels = pd.read_csv(r'C:\\Users\\USER\\Downloads\\Researchs on Mortality Prediction in ICU\\Mortality Prediction in ICU\\labels.csv', encoding = 'utf-8')"
   ]
  },
  {
   "cell_type": "code",
   "execution_count": 27,
   "metadata": {},
   "outputs": [
    {
     "name": "stdout",
     "output_type": "stream",
     "text": [
      "(3999, 43)\n"
     ]
    }
   ],
   "source": [
    "new = pd.concat([df , labels] , axis = 1)\n",
    "print(new.shape)"
   ]
  },
  {
   "cell_type": "code",
   "execution_count": 28,
   "metadata": {},
   "outputs": [],
   "source": [
    "X = new.drop('In-hospital_death', axis=1)\n",
    "y = new['In-hospital_death']"
   ]
  },
  {
   "cell_type": "code",
   "execution_count": 29,
   "metadata": {},
   "outputs": [],
   "source": [
    "col_keep = new\n",
    "col_keep = ['ALP','ALT','AST','Age','Albumin','BUN','Bilirubin','Creatinine','DiasABP','GCS','Glucose','HCO3','HR','Lactate','Mg',                  \n",
    "'NIDiasABP','NIMAP','NISysABP','PaCO2','SaO2','Temp','TroponinI','Urine','WBC','Weight']\n",
    "df = df[col_keep]\n",
    "\n"
   ]
  },
  {
   "cell_type": "code",
   "execution_count": null,
   "metadata": {},
   "outputs": [],
   "source": []
  },
  {
   "cell_type": "code",
   "execution_count": 18,
   "metadata": {},
   "outputs": [],
   "source": [
    "X_train, X_test, y_train, y_test = train_test_split(X, y,test_size=.5,random_state =123)"
   ]
  },
  {
   "cell_type": "code",
   "execution_count": 19,
   "metadata": {},
   "outputs": [
    {
     "name": "stderr",
     "output_type": "stream",
     "text": [
      " 90%|█████████████████████████████████████████████████████████████████████████▌        | 26/29 [00:06<00:00,  4.13it/s]"
     ]
    },
    {
     "name": "stdout",
     "output_type": "stream",
     "text": [
      "[10:19:22] WARNING: C:/Users/Administrator/workspace/xgboost-win64_release_1.5.1/src/learner.cc:1115: Starting in XGBoost 1.3.0, the default evaluation metric used with the objective 'binary:logistic' was changed from 'error' to 'logloss'. Explicitly set eval_metric if you'd like to restore the old behavior.\n"
     ]
    },
    {
     "name": "stderr",
     "output_type": "stream",
     "text": [
      "100%|██████████████████████████████████████████████████████████████████████████████████| 29/29 [00:08<00:00,  3.56it/s]"
     ]
    },
    {
     "name": "stdout",
     "output_type": "stream",
     "text": [
      "                               Accuracy  Balanced Accuracy  ROC AUC  F1 Score  \\\n",
      "Model                                                                           \n",
      "NearestCentroid                    0.75               0.67     0.67      0.78   \n",
      "BernoulliNB                        0.83               0.66     0.66      0.83   \n",
      "Perceptron                         0.82               0.65     0.65      0.83   \n",
      "SGDClassifier                      0.80               0.63     0.63      0.82   \n",
      "PassiveAggressiveClassifier        0.82               0.61     0.61      0.82   \n",
      "DecisionTreeClassifier             0.81               0.60     0.60      0.82   \n",
      "LinearDiscriminantAnalysis         0.87               0.60     0.60      0.85   \n",
      "AdaBoostClassifier                 0.85               0.59     0.59      0.84   \n",
      "LGBMClassifier                     0.87               0.59     0.59      0.85   \n",
      "LogisticRegression                 0.87               0.59     0.59      0.85   \n",
      "BaggingClassifier                  0.86               0.59     0.59      0.84   \n",
      "ExtraTreeClassifier                0.81               0.59     0.59      0.81   \n",
      "XGBClassifier                      0.87               0.59     0.59      0.84   \n",
      "LinearSVC                          0.87               0.57     0.57      0.84   \n",
      "RidgeClassifier                    0.88               0.56     0.56      0.84   \n",
      "RidgeClassifierCV                  0.88               0.56     0.56      0.84   \n",
      "CalibratedClassifierCV             0.87               0.55     0.55      0.84   \n",
      "RandomForestClassifier             0.87               0.55     0.55      0.84   \n",
      "ExtraTreesClassifier               0.88               0.55     0.55      0.84   \n",
      "KNeighborsClassifier               0.87               0.54     0.54      0.83   \n",
      "SVC                                0.88               0.53     0.53      0.83   \n",
      "LabelPropagation                   0.82               0.52     0.52      0.80   \n",
      "LabelSpreading                     0.82               0.52     0.52      0.80   \n",
      "GaussianNB                         0.16               0.51     0.51      0.09   \n",
      "QuadraticDiscriminantAnalysis      0.17               0.50     0.50      0.12   \n",
      "DummyClassifier                    0.87               0.50     0.50      0.81   \n",
      "\n",
      "                               Time Taken  \n",
      "Model                                      \n",
      "NearestCentroid                      0.02  \n",
      "BernoulliNB                          0.04  \n",
      "Perceptron                           0.04  \n",
      "SGDClassifier                        0.04  \n",
      "PassiveAggressiveClassifier          0.03  \n",
      "DecisionTreeClassifier               0.14  \n",
      "LinearDiscriminantAnalysis           0.24  \n",
      "AdaBoostClassifier                   0.50  \n",
      "LGBMClassifier                       0.40  \n",
      "LogisticRegression                   0.05  \n",
      "BaggingClassifier                    0.68  \n",
      "ExtraTreeClassifier                  0.03  \n",
      "XGBClassifier                        0.79  \n",
      "LinearSVC                            0.27  \n",
      "RidgeClassifier                      0.03  \n",
      "RidgeClassifierCV                    0.23  \n",
      "CalibratedClassifierCV               1.05  \n",
      "RandomForestClassifier               1.00  \n",
      "ExtraTreesClassifier                 0.47  \n",
      "KNeighborsClassifier                 0.21  \n",
      "SVC                                  0.44  \n",
      "LabelPropagation                     0.60  \n",
      "LabelSpreading                       0.68  \n",
      "GaussianNB                           0.03  \n",
      "QuadraticDiscriminantAnalysis        0.04  \n",
      "DummyClassifier                      0.03  \n"
     ]
    },
    {
     "name": "stderr",
     "output_type": "stream",
     "text": [
      "\n"
     ]
    }
   ],
   "source": [
    "clf = LazyClassifier(verbose=0,ignore_warnings=True, custom_metric=None)\n",
    "models,predictions = clf.fit(X_train, X_test, y_train, y_test)\n",
    "\n",
    "print(models)"
   ]
  },
  {
   "cell_type": "markdown",
   "metadata": {},
   "source": [
    "# Regression\n"
   ]
  },
  {
   "cell_type": "code",
   "execution_count": 25,
   "metadata": {},
   "outputs": [
    {
     "name": "stderr",
     "output_type": "stream",
     "text": [
      " 22%|██████████████████▏                                                                | 9/41 [00:04<00:16,  1.89it/s]"
     ]
    },
    {
     "name": "stdout",
     "output_type": "stream",
     "text": [
      "GammaRegressor model failed to execute\n",
      "Some value(s) of y are out of the valid range for family GammaDistribution\n"
     ]
    },
    {
     "name": "stderr",
     "output_type": "stream",
     "text": [
      " 78%|████████████████████████████████████████████████████████████████                  | 32/41 [00:23<00:11,  1.27s/it]"
     ]
    },
    {
     "name": "stdout",
     "output_type": "stream",
     "text": [
      "RANSACRegressor model failed to execute\n",
      "RANSAC could not find a valid consensus set. All `max_trials` iterations were skipped because each randomly chosen sub-sample failed the passing criteria. See estimator attributes for diagnostics (n_skips*).\n"
     ]
    },
    {
     "name": "stderr",
     "output_type": "stream",
     "text": [
      "100%|██████████████████████████████████████████████████████████████████████████████████| 41/41 [00:37<00:00,  1.09it/s]"
     ]
    },
    {
     "name": "stdout",
     "output_type": "stream",
     "text": [
      "                               Adjusted R-Squared  R-Squared  RMSE  Time Taken\n",
      "Model                                                                         \n",
      "GradientBoostingRegressor                    0.05       0.15  0.31        3.00\n",
      "LGBMRegressor                                0.02       0.13  0.31        0.43\n",
      "ExtraTreesRegressor                          0.02       0.12  0.31        2.04\n",
      "HistGradientBoostingRegressor                0.01       0.11  0.31        1.19\n",
      "OrthogonalMatchingPursuit                   -0.00       0.10  0.31        0.04\n",
      "LassoLarsCV                                 -0.00       0.10  0.31        0.12\n",
      "LarsCV                                      -0.00       0.10  0.31        0.11\n",
      "RandomForestRegressor                       -0.01       0.10  0.31       10.53\n",
      "TweedieRegressor                            -0.01       0.10  0.31        0.03\n",
      "ElasticNetCV                                -0.01       0.09  0.31        0.16\n",
      "LassoCV                                     -0.01       0.09  0.31        0.16\n",
      "BayesianRidge                               -0.03       0.08  0.32        0.55\n",
      "LassoLarsIC                                 -0.03       0.08  0.32        0.04\n",
      "OrthogonalMatchingPursuitCV                 -0.03       0.08  0.32        0.06\n",
      "RidgeCV                                     -0.04       0.07  0.32        0.67\n",
      "Ridge                                       -0.04       0.07  0.32        0.04\n",
      "LinearRegression                            -0.04       0.07  0.32        0.55\n",
      "TransformedTargetRegressor                  -0.04       0.07  0.32        0.55\n",
      "Lars                                        -0.04       0.07  0.32        0.05\n",
      "SVR                                         -0.04       0.07  0.32        0.85\n",
      "PoissonRegressor                            -0.06       0.05  0.32        0.04\n",
      "KNeighborsRegressor                         -0.07       0.04  0.32        0.06\n",
      "BaggingRegressor                            -0.08       0.04  0.32        1.08\n",
      "NuSVR                                       -0.10       0.02  0.33        5.44\n",
      "XGBRegressor                                -0.10       0.02  0.33        1.44\n",
      "AdaBoostRegressor                           -0.11       0.01  0.33        0.23\n",
      "Lasso                                       -0.12      -0.00  0.33        0.03\n",
      "ElasticNet                                  -0.12      -0.00  0.33        0.04\n",
      "DummyRegressor                              -0.12      -0.00  0.33        0.03\n",
      "LassoLars                                   -0.12      -0.00  0.33        0.03\n",
      "KernelRidge                                 -0.21      -0.08  0.34        0.97\n",
      "GaussianProcessRegressor                    -0.27      -0.14  0.35        2.69\n",
      "LinearSVR                                   -0.28      -0.15  0.35        0.60\n",
      "HuberRegressor                              -0.29      -0.16  0.36        0.20\n",
      "MLPRegressor                                -0.38      -0.24  0.37        3.20\n",
      "PassiveAggressiveRegressor                  -0.71      -0.53  0.41        0.04\n",
      "ExtraTreeRegressor                          -1.04      -0.83  0.45        0.05\n",
      "DecisionTreeRegressor                       -1.20      -0.97  0.46        0.19\n",
      "SGDRegressor                              -357.32    -319.60  5.92        0.04\n"
     ]
    },
    {
     "name": "stderr",
     "output_type": "stream",
     "text": [
      "\n"
     ]
    }
   ],
   "source": [
    "\n",
    "\n",
    "\n",
    "offset = int(X.shape[0] * 0.9)\n",
    "\n",
    "X_train, y_train = X[:offset], y[:offset]\n",
    "X_test, y_test = X[offset:], y[offset:]\n",
    "\n",
    "reg = LazyRegressor(verbose=0, ignore_warnings=False, custom_metric=None)\n",
    "models, predictions = reg.fit(X_train, X_test, y_train, y_test)\n",
    "\n",
    "print(models)"
   ]
  },
  {
   "cell_type": "code",
   "execution_count": null,
   "metadata": {},
   "outputs": [],
   "source": []
  }
 ],
 "metadata": {
  "kernelspec": {
   "display_name": "Python 3",
   "language": "python",
   "name": "python3"
  },
  "language_info": {
   "codemirror_mode": {
    "name": "ipython",
    "version": 3
   },
   "file_extension": ".py",
   "mimetype": "text/x-python",
   "name": "python",
   "nbconvert_exporter": "python",
   "pygments_lexer": "ipython3",
   "version": "3.6.10"
  }
 },
 "nbformat": 4,
 "nbformat_minor": 4
}
